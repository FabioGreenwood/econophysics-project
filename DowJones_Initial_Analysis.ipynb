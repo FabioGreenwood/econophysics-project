{
 "cells": [
  {
   "cell_type": "code",
   "execution_count": 2,
   "metadata": {},
   "outputs": [],
   "source": [
    "import pandas as pd\n",
    "import numpy as np\n",
    "import matplotlib.pyplot as plt\n",
    "import os\n",
    "import copy"
   ]
  },
  {
   "attachments": {},
   "cell_type": "markdown",
   "metadata": {},
   "source": [
    "Notes:\n",
    "\n",
    "Example trading data as: 8 hours, 250 days, 6 years = 12000"
   ]
  },
  {
   "attachments": {},
   "cell_type": "markdown",
   "metadata": {},
   "source": [
    "Calculate the simple delta calculation"
   ]
  },
  {
   "cell_type": "code",
   "execution_count": 3,
   "metadata": {},
   "outputs": [],
   "source": [
    "def return_price_dynamic_data(df_input=\"Data\\DowJones_Daily_1Y.csv\", price_string=\"Close*\", return_plot=True, scale_to_first_value=True):\n",
    "\n",
    "    df_close = extract_close_value(df_input=df_input, price_string=price_string, scale_to_first_value=scale_to_first_value)\n",
    "    \n",
    "    #calculate deltas\n",
    "    df_close[\"delta\"] = np.zeros(len(df_close.index))\n",
    "    for i in df_close.index[1:]:\n",
    "        df_close.loc[i, \"delta\"] = df_close[price_string][i - 1] - df_close[price_string][i]\n",
    "    df_close[\"delta\"][0] = df_close[\"delta\"][1]\n",
    "\n",
    "    #produce plots and return values\n",
    "    if return_plot == True:\n",
    "        fig, axs = plt.subplots(2)\n",
    "        fig.suptitle('Vertically stacked subplots')\n",
    "        axs[0].plot(df_close[price_string])\n",
    "        axs[1].plot(df_close[\"delta\"])\n",
    "        return fig, df_close\n",
    "    elif return_plot == False:\n",
    "        return df_close\n",
    "\n",
    "def extract_close_value(df_input=\"Data\\DowJones_Daily_1Y.csv\", price_string=\"Close*\", scale_to_first_value=True):\n",
    "    if isinstance(df_input, str):\n",
    "        df = pd.read_csv(df_input)\n",
    "    else:\n",
    "        df = df_input\n",
    "    \n",
    "    #handle strings\n",
    "    if isinstance(df[price_string][0], str):\n",
    "        df[price_string] = df[price_string].str.replace(',','')\n",
    "        df[price_string] = df[price_string].astype(float)\n",
    "    df_close     = pd.DataFrame(df[price_string])\n",
    "    \n",
    "    if scale_to_first_value == True:\n",
    "        scale = df_close[price_string][0]\n",
    "        df_close[price_string] = df_close[price_string] / scale\n",
    "    return df_close\n",
    "\n",
    "def run_analysis_on_folder(folder_location_list=[\"C:\\\\Users\\\\Fabio\\\\OneDrive\\\\Documents\\\\Studies\\\\Econophysics\\\\Analysis\\\\Data\\\\h_us_txt\\\\data\\\\hourly\\\\us\\\\nasdaq stocks\\\\1\"], price_string=\"<CLOSE>\", return_plot=False, scale_to_first_value=True, cap_analysis_at_file_qty=20):\n",
    "    delta_table = pd.DataFrame(columns=[\"delta\"])    \n",
    "    file_count = 0\n",
    "    for folder_path in folder_location_list:\n",
    "        for filename in os.listdir(folder_path):\n",
    "            if file_count < cap_analysis_at_file_qty:\n",
    "                file = os.path.join(folder_path, filename)\n",
    "                file_count += 1\n",
    "                temp = return_price_dynamic_data(df_input=file, price_string=price_string, return_plot=return_plot, scale_to_first_value=scale_to_first_value)\n",
    "                delta_table = pd.concat([delta_table, pd.DataFrame(temp[\"delta\"])], ignore_index=True) \n",
    "    \n",
    "    return delta_table\n",
    "\n",
    "#delta_table = run_analysis_on_folder()\n",
    "#print(len(delta_table))\n",
    "#p = plt.hist(delta_table, bins=200)\n",
    "    "
   ]
  },
  {
   "attachments": {},
   "cell_type": "markdown",
   "metadata": {},
   "source": [
    "More complex sigma(delta t) calculator"
   ]
  },
  {
   "cell_type": "code",
   "execution_count": 10,
   "metadata": {},
   "outputs": [
    {
     "ename": "TypeError",
     "evalue": "slice indices must be integers or None or have an __index__ method",
     "output_type": "error",
     "traceback": [
      "\u001b[1;31m---------------------------------------------------------------------------\u001b[0m",
      "\u001b[1;31mTypeError\u001b[0m                                 Traceback (most recent call last)",
      "Cell \u001b[1;32mIn[10], line 19\u001b[0m\n\u001b[0;32m     15\u001b[0m     \u001b[39mreturn\u001b[39;00m sigma_delta_t\n\u001b[0;32m     17\u001b[0m time_steps_inputs\u001b[39m=\u001b[39m[\u001b[39m1e0\u001b[39m, \u001b[39m5e0\u001b[39m, \u001b[39m1e1\u001b[39m, \u001b[39m5e1\u001b[39m, \u001b[39m1e2\u001b[39m, \u001b[39m5e2\u001b[39m, \u001b[39m1e3\u001b[39m, \u001b[39m5e3\u001b[39m, \u001b[39m1e4\u001b[39m]\n\u001b[1;32m---> 19\u001b[0m test \u001b[39m=\u001b[39m return_sigma_delta_t(time_steps\u001b[39m=\u001b[39;49mtime_steps_inputs)\n\u001b[0;32m     20\u001b[0m \u001b[39mprint\u001b[39m(test)\n",
      "Cell \u001b[1;32mIn[10], line 11\u001b[0m, in \u001b[0;36mreturn_sigma_delta_t\u001b[1;34m(df_input, price_string, return_plot, scale_to_first_value, time_steps)\u001b[0m\n\u001b[0;32m      8\u001b[0m \u001b[39mfor\u001b[39;00m incri \u001b[39min\u001b[39;00m time_steps:\n\u001b[0;32m      9\u001b[0m     \u001b[39m#df_close[str(incri)] = np.nan(len(df_close.index))\u001b[39;00m\n\u001b[0;32m     10\u001b[0m     df_close[\u001b[39mstr\u001b[39m(incri)] \u001b[39m=\u001b[39m np\u001b[39m.\u001b[39mnan\n\u001b[1;32m---> 11\u001b[0m     \u001b[39mfor\u001b[39;00m time_step \u001b[39min\u001b[39;00m df_close\u001b[39m.\u001b[39;49mindex[incri:]:\n\u001b[0;32m     12\u001b[0m         df_close\u001b[39m.\u001b[39mloc[time_step, \u001b[39mstr\u001b[39m(incri)] \u001b[39m=\u001b[39m df_close[price_string][time_step \u001b[39m-\u001b[39m incri] \u001b[39m-\u001b[39m df_close[price_string][time_step]\n\u001b[0;32m     13\u001b[0m     sigma_delta_t \u001b[39m=\u001b[39m sigma_delta_t \u001b[39m+\u001b[39m [df_close[\u001b[39mstr\u001b[39m(incri)]\u001b[39m.\u001b[39mstd()]\n",
      "File \u001b[1;32mc:\\Users\\Fabio\\AppData\\Local\\Programs\\Python\\Python311\\Lib\\site-packages\\pandas\\core\\indexes\\range.py:961\u001b[0m, in \u001b[0;36mRangeIndex.__getitem__\u001b[1;34m(self, key)\u001b[0m\n\u001b[0;32m    957\u001b[0m \u001b[39m\"\"\"\u001b[39;00m\n\u001b[0;32m    958\u001b[0m \u001b[39mConserve RangeIndex type for scalar and slice keys.\u001b[39;00m\n\u001b[0;32m    959\u001b[0m \u001b[39m\"\"\"\u001b[39;00m\n\u001b[0;32m    960\u001b[0m \u001b[39mif\u001b[39;00m \u001b[39misinstance\u001b[39m(key, \u001b[39mslice\u001b[39m):\n\u001b[1;32m--> 961\u001b[0m     new_range \u001b[39m=\u001b[39m \u001b[39mself\u001b[39;49m\u001b[39m.\u001b[39;49m_range[key]\n\u001b[0;32m    962\u001b[0m     \u001b[39mreturn\u001b[39;00m \u001b[39mself\u001b[39m\u001b[39m.\u001b[39m_simple_new(new_range, name\u001b[39m=\u001b[39m\u001b[39mself\u001b[39m\u001b[39m.\u001b[39m_name)\n\u001b[0;32m    963\u001b[0m \u001b[39melif\u001b[39;00m is_integer(key):\n",
      "\u001b[1;31mTypeError\u001b[0m: slice indices must be integers or None or have an __index__ method"
     ]
    }
   ],
   "source": [
    "def return_sigma_delta_t(df_input=\"Data\\DowJones_Daily_1Y.csv\", price_string=\"Close*\", return_plot=True, scale_to_first_value=True, delta_ts=range(1, 11)):\n",
    "    sigma_delta_table = pd.DataFrame()\n",
    "    df_close = extract_close_value(df_input=df_input, price_string=price_string, scale_to_first_value=scale_to_first_value)\n",
    "    \n",
    "    sigma_delta_t = []\n",
    "    \n",
    "    #calculate deltas\n",
    "    for incri in delta_ts:\n",
    "        #df_close[str(incri)] = np.nan(len(df_close.index))\n",
    "        df_close[str(incri)] = np.nan\n",
    "        for time_step in df_close.index[incri:]:\n",
    "            df_close.loc[time_step, str(incri)] = df_close[price_string][time_step - incri] - df_close[price_string][time_step]\n",
    "        sigma_delta_t = sigma_delta_t + [df_close[str(incri)].std()]\n",
    "    \n",
    "    return sigma_delta_t\n",
    "\n",
    "time_steps_inputs=[1e0, 5e0, 1e1, 5e1, 1e2, 5e2, 1e3, 5e3, 1e4]\n",
    "\n",
    "test = return_sigma_delta_t(time_steps=time_steps_inputs)\n",
    "print(test)\n"
   ]
  },
  {
   "cell_type": "code",
   "execution_count": 7,
   "metadata": {},
   "outputs": [
    {
     "name": "stdout",
     "output_type": "stream",
     "text": [
      "Hello\n"
     ]
    }
   ],
   "source": [
    "print(\"Hello\")"
   ]
  }
 ],
 "metadata": {
  "kernelspec": {
   "display_name": "Python 3",
   "language": "python",
   "name": "python3"
  },
  "language_info": {
   "codemirror_mode": {
    "name": "ipython",
    "version": 3
   },
   "file_extension": ".py",
   "mimetype": "text/x-python",
   "name": "python",
   "nbconvert_exporter": "python",
   "pygments_lexer": "ipython3",
   "version": "3.11.1"
  },
  "orig_nbformat": 4
 },
 "nbformat": 4,
 "nbformat_minor": 2
}
