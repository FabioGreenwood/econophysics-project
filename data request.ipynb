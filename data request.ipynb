{
 "cells": [
  {
   "cell_type": "code",
   "execution_count": 1,
   "metadata": {},
   "outputs": [
    {
     "name": "stdout",
     "output_type": "stream",
     "text": [
      "2018-11-19\n",
      "2019-04-08\n",
      "2019-08-26\n",
      "2020-01-13\n",
      "2020-06-01\n",
      "2020-10-19\n",
      "2021-03-08\n",
      "2021-07-26\n",
      "2021-12-13\n",
      "2022-05-02\n",
      "2022-09-19\n",
      "2023-02-06\n",
      "2023-06-26\n",
      "2023-05-28\n"
     ]
    }
   ],
   "source": [
    "import requests\n",
    "import pandas as pd\n",
    "import datetime\n",
    "import requests\n",
    "from bs4 import BeautifulSoup\n",
    "import requests\n",
    "\n",
    "#parameters\n",
    "#symbol          = \"msft\" #microsoft\n",
    "symbol         = \"tsla\" #S&P500\n",
    "time_step       = \"1min\"\n",
    "start           = datetime.datetime(2018, 7, 2)\n",
    "end             = datetime.datetime.now()\n",
    "\n",
    "#data\n",
    "location            = \"C:\\\\Users\\\\Fabio\\\\OneDrive\\\\Documents\\\\Studies\\\\Econophysics\\\\econophysics-project\\\\Data\\\\\"\n",
    "http_format_string  = \"https://api.tiingo.com/iex/{}/prices?startDate={}&endDate={}&resampleFreq={}&columns=open,high,low,close,volume&token=02dfb3bcafb0c3809fd30f191e071ea2902fc339\"\n",
    "\n",
    "#set up request dates\n",
    "current_start   = start\n",
    "current_end     = current_start + datetime.timedelta(weeks=4*5)\n",
    "starts          = [current_start.strftime(\"%Y-%m-%d\")]\n",
    "ends            = [current_end.strftime(\"%Y-%m-%d\")]\n",
    "headers = {\n",
    "    'Content-Type': 'application/json'\n",
    "}\n",
    "\n",
    "#create lists of requests\n",
    "while current_end < end:\n",
    "    current_start   = current_end\n",
    "    # so in the original version of the following line there was a time jump of 4 x 5 weeks (5 months), to retieve data with a time step of 1 min, there are 390 mins in a training day, please use this to scale the length of a data request, i.e. shorter time steps will require short request periods  \n",
    "    current_end     = current_start + datetime.timedelta(weeks=4*5)\n",
    "    starts          = starts + [current_start.strftime(\"%Y-%m-%d\")]\n",
    "    ends            = ends + [current_end.strftime(\"%Y-%m-%d\")]\n",
    "#ends[-0] = datetime.datetime.now()\n",
    "ends[-1] = datetime.datetime(2023, 5, 28).strftime(\"%Y-%m-%d\")\n",
    "\n",
    "#request loop\n",
    "for start, end in zip(starts, ends):\n",
    "    req_str = http_format_string.format(symbol.upper(), start, end, time_step)\n",
    "    requestResponse = requests.get(req_str, headers=headers)\n",
    "    if start == starts[0]:\n",
    "        df = pd.DataFrame(requestResponse.json())\n",
    "    else:\n",
    "        df = pd.concat([df, pd.DataFrame(requestResponse.json())], axis=0)\n",
    "        df = df.drop_duplicates()\n",
    "    print(end)\n",
    "\n",
    "if isinstance(start, datetime.datetime):\n",
    "    start_string = start.strftime(\"%Y%m%d\")\n",
    "else:\n",
    "    start_string = start.replace(\"-\",\"\")\n",
    "\n",
    "if isinstance(current_end, datetime.datetime):\n",
    "    current_end_string = current_end.strftime(\"%Y%m%d\")\n",
    "else:\n",
    "    current_end_string = current_end.replace(\"-\",\"\")\n",
    "\n",
    "df.to_csv(location + symbol + \"_\" + time_step + \"_\" + start_string + \"_\" + current_end_string + \"_2\" + \".csv\")"
   ]
  },
  {
   "cell_type": "code",
   "execution_count": 13,
   "metadata": {},
   "outputs": [],
   "source": [
    "if isinstance(start, datetime.datetime):\n",
    "    start_string = start.strftime(\"%Y%m%d\")\n",
    "else:\n",
    "    start_string = start.replace(\"-\",\"\")\n",
    "\n",
    "if isinstance(current_end, datetime.datetime):\n",
    "    current_end_string = current_end.strftime(\"%Y%m%d\")\n",
    "else:\n",
    "    current_end_string = current_end.replace(\"-\",\"\")\n",
    "\n",
    "df.to_csv(location + symbol + \"_\" + time_step + \"_\" + start_string + \"_\" + current_end_string + \".csv\")"
   ]
  }
 ],
 "metadata": {
  "kernelspec": {
   "display_name": "Python 3",
   "language": "python",
   "name": "python3"
  },
  "language_info": {
   "codemirror_mode": {
    "name": "ipython",
    "version": 3
   },
   "file_extension": ".py",
   "mimetype": "text/x-python",
   "name": "python",
   "nbconvert_exporter": "python",
   "pygments_lexer": "ipython3",
   "version": "3.11.3"
  },
  "orig_nbformat": 4
 },
 "nbformat": 4,
 "nbformat_minor": 2
}
